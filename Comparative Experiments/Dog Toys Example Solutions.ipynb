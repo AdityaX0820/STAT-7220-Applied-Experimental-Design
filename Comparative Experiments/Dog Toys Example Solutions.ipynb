{
 "cells": [
  {
   "cell_type": "markdown",
   "id": "7111d9fa",
   "metadata": {},
   "source": [
    "# Dog Toys Answer Key\n",
    "## Dr Austin R Brown\n",
    "### School of Data Science & Analytics\n",
    "### Kennesaw State University"
   ]
  },
  {
   "cell_type": "code",
   "execution_count": null,
   "id": "2aa261ce",
   "metadata": {},
   "outputs": [],
   "source": [
    "# === COURSE REPO SETUP === #\n",
    "\n",
    "# 1. ENTER your GitHub username (the one that owns your fork)\n",
    "#github_username = \"abrown9008\"\n",
    "\n",
    "# 2. Name of the repo (don't change unless your fork name is different)\n",
    "repo_name = \"STAT-7220-Applied-Experimental-Design\"\n",
    "\n",
    "# 3. Build the full repo URL for cloning\n",
    "repo_url = f\"https://github.com/{github_username}/{repo_name}.git\"\n",
    "\n",
    "import os\n",
    "\n",
    "# --- Detect if we're already in a repo ---\n",
    "cwd = os.getcwd()\n",
    "if cwd.endswith(repo_name):\n",
    "    print(f\"✅ Already inside repo folder: {cwd}\")\n",
    "else:\n",
    "    # --- If the repo folder exists, check if it's nested ---\n",
    "    if os.path.exists(repo_name):\n",
    "        print(f\"⚠️ Found existing folder '{repo_name}'. Skipping clone to avoid nesting.\")\n",
    "    else:\n",
    "        print(f\"📥 Cloning repo from {repo_url}...\")\n",
    "        os.system(f\"git clone {repo_url}\")\n",
    "\n",
    "    # --- Change to repo directory ---\n",
    "    if os.path.exists(repo_name):\n",
    "        os.chdir(repo_name)\n",
    "        print(f\"📂 Changed directory to: {os.getcwd()}\")\n",
    "    else:\n",
    "        print(\"❌ ERROR: Repo folder not found. Please check your GitHub username.\")\n",
    "\n",
    "# --- Check if this is the instructor's repo instead of student's fork ---\n",
    "# This command needs to be run from within the repository directory\n",
    "remote_url = os.popen(\"git config --get remote.origin.url\").read().strip()\n",
    "\n",
    "if \"abrown9008\" in remote_url:\n",
    "    print(\"⚠️ WARNING: You are working in the instructor's repo, not your fork!\")\n",
    "    print(\"💡 Please fork the repo to your own account and update `github_username` above.\")\n",
    "else:\n",
    "    print(f\"🔗 Connected to fork at: {remote_url}\")\n",
    "\n",
    "# Set Today's Directory #\n",
    "\n",
    "today_dir = \"Comparative Experiments\"\n",
    "os.chdir(today_dir)\n",
    "print(f\"📂 Changed directory to: {os.getcwd()}\")"
   ]
  },
  {
   "cell_type": "markdown",
   "id": "bec2d4ce",
   "metadata": {},
   "source": [
    "## Question 1. Specify the outcome and independent variables. What lurking variables might be present?\n",
    "\n",
    "- Outcome = PSI when ball rips (continuous numeric variable); IV = Formulation (nominal categorical variable). There could be a lurking variable if different operators are used to test the balls, supposing they have different levels of experience operating the machine. Ideally, only one operator would use the machine to manufacutre the balls to remove this source of variation.\n",
    "\n",
    "## Question 2. Briefly explain why a completely randomized design might be appropriate in this context\n",
    "\n",
    "- A CRD would be appropriate here because we have two treatments that we'd like to compare. Additionally, we are randomly manufacturing the toys without many other sources of variation that we would need to control for in a more complex design.\n",
    "\n",
    "## Question 3. Perform an appropriate exploratory analysis\n"
   ]
  },
  {
   "cell_type": "code",
   "execution_count": 28,
   "id": "7a04384d",
   "metadata": {},
   "outputs": [
    {
     "name": "stdout",
     "output_type": "stream",
     "text": [
      "<class 'pandas.core.frame.DataFrame'>\n",
      "RangeIndex: 120 entries, 0 to 119\n",
      "Data columns (total 2 columns):\n",
      " #   Column       Non-Null Count  Dtype  \n",
      "---  ------       --------------  -----  \n",
      " 0   Formulation  120 non-null    object \n",
      " 1   PSI          120 non-null    float64\n",
      "dtypes: float64(1), object(1)\n",
      "memory usage: 2.0+ KB\n",
      "                   mean        std\n",
      "Formulation                       \n",
      "Formula 1    278.432167  12.450986\n",
      "Formula 2    291.924333  16.644723\n"
     ]
    },
    {
     "data": {
      "text/plain": [
       "Text(0, 0.5, 'Pounds Per Square Inch (PSI)')"
      ]
     },
     "execution_count": null,
     "metadata": {},
     "output_type": "execute_result"
    },
    {
     "data": {
      "image/png": "[encoded data removed]",
      "text/plain": [
       "<Figure size 640x480 with 1 Axes>"
      ]
     },
     "metadata": {},
     "output_type": "display_data"
    }
   ],
   "source": [
    "## Import Necessary Packages to Perform Exploratory Analysis ##\n",
    "\n",
    "import pandas as pd\n",
    "import numpy as np\n",
    "import seaborn as sns\n",
    "import matplotlib.pyplot as plt \n",
    "\n",
    "## Import Dog Toys.xlsx file ##\n",
    "\n",
    "dog_toys = pd.read_excel(\"Dog Toys.xlsx\")\n",
    "\n",
    "## Check Data Integrity ##\n",
    "\n",
    "dog_toys.info()\n",
    "\n",
    "## Calculate Group Means and Standard Deviations ##\n",
    "\n",
    "summary_stats = dog_toys.groupby('Formulation')['PSI'].agg(['mean','std'])\n",
    "\n",
    "print(summary_stats)\n",
    "\n",
    "## Generate Boxplots for Visual Comparison ##\n",
    "\n",
    "## Set a nice minimal style for plot ##\n",
    "\n",
    "sns.set_style(\"whitegrid\")\n",
    "\n",
    "## Create boxplot using seaborn ##\n",
    "\n",
    "sns.boxplot(x=\"Formulation\",y=\"PSI\",data=dog_toys)\n",
    "\n",
    "## Add Title and Labels using matplotlib ##\n",
    "\n",
    "plt.title(\"Boxplot of Breaking PSI by Formulation\", loc='center')\n",
    "plt.xlabel(\"Formulation\")\n",
    "plt.ylabel(\"Pounds Per Square Inch (PSI)\")"
   ]
  },
  {
   "cell_type": "markdown",
   "id": "72d53b63",
   "metadata": {},
   "source": [
    "- To interpret these results, we can see that Formulation 2 has about 20 more PSI, on average, compared to Formulation 1. Practically, this means that F2 toys can withstand 20 more PSI than can F1 toys. We can see this in the visualization considering that F2 and F1's boxes don't have substantial overlap. In context, this likely implies that the PSI F2 toys can withstand is statistically greater than the PSI F1 toys can withstand.\n",
    "\n",
    "## Question 4. Perform an appropriate inferential analysis (including the specification of $H_0$ and $H_1$)\n",
    "\n",
    "- First, let's specify $H_0$ and $H_1$:\n",
    "\n",
    "$$ H_0: \\text{Mean PSI between Formulation 1 and Formulation 2 is the same} $$\n",
    "$$ H_1: \\text{Mean PSI between Formulation 1 and Formulation 2 is different} $$\n",
    "\n",
    "- Now, let's fit our one-way ANOVA model and print the ANOVA table out paying specific attention to the F-statistic and its associated p-value. \n"
   ]
  },
  {
   "cell_type": "code",
   "execution_count": 29,
   "id": "ba42adb4",
   "metadata": {},
   "outputs": [
    {
     "name": "stdout",
     "output_type": "stream",
     "text": [
      "                df        sum_sq      mean_sq          F    PR(>F)\n",
      "Formulation    1.0   5461.156841  5461.156841  25.278813  0.000002\n",
      "Residual     118.0  25492.356292   216.036918        NaN       NaN\n"
     ]
    }
   ],
   "source": [
    "## Import Necessary Libraries ##\n",
    "import statsmodels.api as sm\n",
    "from statsmodels.formula.api import ols\n",
    "\n",
    "## Fit Model ##\n",
    "\n",
    "dog_mod = ols(\"PSI~Formulation\",data=dog_toys).fit()\n",
    "\n",
    "## Obtain ANOVA table ##\n",
    "\n",
    "dog_tab = sm.stats.anova_lm(dog_mod,typ=1) ## We use Type 1 sums of squares when we only have 1 IV \n",
    "## or when we are iteratively adding variables to a model ##\n",
    "\n",
    "print(dog_tab)"
   ]
  },
  {
   "cell_type": "markdown",
   "id": "39140299",
   "metadata": {},
   "source": [
    "## Question 5. Provide Contextual Conclusions -- Which Formulation Seems More Durable?\n",
    "\n",
    "- So we can see here that $F(1,118) = 25.28$ with an associated p-value of $p < 0.001$. This implies that the data more strongly support the alternative hypothesis. Contextually, this means that the mean difference we observed in the descriptive analysis is statistically meaningful. In other words, F2 toys are likely tougher toys and can withstand stronger bites from pets.\n",
    "\n",
    "## Question 6. What Questions Remain?\n",
    "\n",
    "- In this experiment, the dog toys were crushed to simulate a dog's bite force. However, dogs mostly have pointed canine teeth for piercing. This experiment didn't consider the effect of biting force in conjunction with teeth piercing. In other words, we know the F2 toys can withstand a strong bite but we don't know if they will easily rip when bit with a sharp tooth. This should be accounted for in a subsequent experiment."
   ]
  }
 ],
 "metadata": {
  "language_info": {
   "name": "python"
  }
 },
 "nbformat": 4,
 "nbformat_minor": 5
}
