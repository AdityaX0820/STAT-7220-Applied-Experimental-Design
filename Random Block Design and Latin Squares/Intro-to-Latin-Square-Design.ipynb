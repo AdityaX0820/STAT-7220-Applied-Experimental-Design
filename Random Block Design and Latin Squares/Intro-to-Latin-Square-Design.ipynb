{
 "cells": [
  {
   "cell_type": "markdown",
   "id": "236fdaed",
   "metadata": {},
   "source": [
    "# Introduction to Latin Square Design\n",
    "# Controlling for Two Blocking Factors\n",
    "## Dr Austin R Brown\n",
    "## School of Data Science and Analytics\n",
    "### Kennesaw State University"
   ]
  },
  {
   "cell_type": "code",
   "execution_count": 21,
   "id": "cb978fb3",
   "metadata": {},
   "outputs": [
    {
     "name": "stdout",
     "output_type": "stream",
     "text": [
      "📂 Changed directory to: d:\\KSU\\Teaching\\STAT 7220\\STAT-7220-Applied-Experimental-Design\\STAT-7220-Applied-Experimental-Design\\Random Block Design and Latin Squares\n"
     ]
    }
   ],
   "source": [
    "# === COURSE REPO SETUP === #\n",
    "\n",
    "# 1. ENTER your GitHub username (the one that owns your fork)\n",
    "#github_username = \"abrown9008\"\n",
    "\n",
    "# 2. Name of the repo (don't change unless your fork name is different)\n",
    "#repo_name = \"STAT-7220-Applied-Experimental-Design\"\n",
    "\n",
    "# 3. Build the full repo URL for cloning\n",
    "#repo_url = f\"https://github.com/{github_username}/{repo_name}.git\"\n",
    "\n",
    "import os\n",
    "\n",
    "# --- Detect if we're already in a repo ---\n",
    "#cwd = os.getcwd()\n",
    "#if cwd.endswith(repo_name):\n",
    "#    print(f\"✅ Already inside repo folder: {cwd}\")\n",
    "#else:\n",
    "    # --- If the repo folder exists, check if it's nested ---\n",
    "#    if os.path.exists(repo_name):\n",
    "#        print(f\"⚠️ Found existing folder '{repo_name}'. Skipping clone to avoid nesting.\")\n",
    "#    else:\n",
    "#        print(f\"📥 Cloning repo from {repo_url}...\")\n",
    "#        os.system(f\"git clone {repo_url}\")\n",
    "\n",
    "    # --- Change to repo directory ---\n",
    "#    if os.path.exists(repo_name):\n",
    "#        os.chdir(repo_name)\n",
    "#        print(f\"📂 Changed directory to: {os.getcwd()}\")\n",
    "#    else:\n",
    "#        print(\"❌ ERROR: Repo folder not found. Please check your GitHub username.\")\n",
    "\n",
    "# --- Check if this is the instructor's repo instead of student's fork ---\n",
    "# This command needs to be run from within the repository directory\n",
    "#remote_url = os.popen(\"git config --get remote.origin.url\").read().strip()\n",
    "\n",
    "#if \"abrown9008\" in remote_url:\n",
    "#   print(\"⚠️ WARNING: You are working in the instructor's repo, not your fork!\")\n",
    "#    print(\"💡 Please fork the repo to your own account and update `github_username` above.\")\n",
    "#else:\n",
    "#    print(f\"🔗 Connected to fork at: {remote_url}\")\n",
    "\n",
    "# Set Today's Directory #\n",
    "\n",
    "#today_dir = \"Random Block Design and Latin Squares\"\n",
    "#os.chdir(today_dir)\n",
    "print(f\"📂 Changed directory to: {os.getcwd()}\")"
   ]
  },
  {
   "cell_type": "markdown",
   "id": "53903653",
   "metadata": {},
   "source": [
    "## Introduction\n",
    "\n",
    "- So far, we've learned about [Completely Randomized Designs](https://github.com/abrown9008/STAT-7220-Applied-Experimental-Design/blob/main/Comparative%20Experiments/Introduction%20to%20Completely%20Randomized%20Designs.ipynb) and [Randomized Block Designs](https://github.com/abrown9008/STAT-7220-Applied-Experimental-Design/blob/main/Random%20Block%20Design%20and%20Latin%20Squares/Intro-to-Randomized-Block-Design.ipynb).\n",
    "\n",
    "- In CRD, we assumed we had one treatment factor and we randomly assigned treatments to experimental units.\n",
    "\n",
    "    - We didn't account for any nuisance or blocking factors.\n",
    "\n",
    "- In RBD, we assumed there may be one nuisance factor that we know and can control for.\n",
    "\n",
    "    - We blocked the experimental units based on this factor.\n",
    "\n",
    "- But in some cases, we may have more than one nuisance factor.\n",
    "\n",
    "    - Suppose we have two, for instance. What do we do then?\n",
    "\n",
    "## Example: Comparing Dog Toy Durability\n",
    "\n",
    "- Let's reconsider the dog toy durability experiment we had worked on previously. Let's suppose we have three different machines which can make one of three different rubber formulations for our dog toys (say, F1, F2, and F3). The rubber formulation is our main treatment factor, but we would also want to control for any variation attributable to differences in machine. So *machine will serve as a blocking factor*.\n",
    "\n",
    "- However, these machines require someone to operate them. Let's say we also have three operators trained to operate our machines. It would also be important to control for variation attributable to differences in operator as well. So *operator* will be our second blocking factor.\n",
    "\n",
    "- So to recap, we will be using a hydraulic press to measure the PSI of our dog toys when the toy breaks (**outcome**). We are interested in comparing the mean PSI across the three rubber formulations (**treatment effect**) controlling for the machine and operator (**blocking factors**).\n",
    "\n",
    "## Study Design\n",
    "\n",
    "- The type of design we will use to account for **two blocking factors**, both Machine and Operator, is called a ***Latin Square Design***.\n",
    "\n",
    "    - Note, unlike RBD, the number of levels of the treatment and blocking factors **must be equal to produce the \"Square\" of \"Latin Square\"**\n",
    "\n",
    "- Our overall research question will largely stay the same from the CRD study: \"Is there evidence for a difference in mean breaking PSI between the rubber formulations controlling for machine and operator effects?\"\n",
    "\n",
    "- We will have 3 treatments (F1, F2, and F3), 3 levels for our first block (Machine), and 3 levels for our second block (Operator).\n",
    "\n",
    "    - This is called a $3\\times 3$ Latin Square.\n",
    "    - Again, note, for us to have a Latin Square Design (LSD), **the number of levels in the treatment factor and the two blocking factors must be equal.**\n",
    "\n",
    "- Each level of each blocking factor will receive each treatment exactly once.\n",
    "\n",
    "    - This is the key feature of a Latin Square Design.\n",
    "\n",
    "- It is sometimes helpful to visualize the design of a Latin Square. Here is a visual representation of the design we will use for our study:\n",
    "\n",
    "**Latin Square Study Design**\n",
    "\n",
    "| **Machine** | **Operator 1** | **Operator 2** | **Operator 3** |\n",
    "|-------------|----------------|----------------|----------------|\n",
    "| **1**       | F1             | F2             | F3             |\n",
    "| **2**       | F2             | F3             | F1             |\n",
    "| **3**       | F3             | F1             | F2             |\n",
    "\n",
    "\n",
    "- Note, in a LSD, the number of replicates per square is one (i.e., $r=1$). So for a $3\\times 3$ design, we have a total of $N=9$ observations.\n",
    "\n",
    "    - This is partly why LSD is considered an efficient design. We can control sources of variability and make our treatment comparison with very few observations.\n",
    "\n",
    "## Descriptive Analysis\n",
    "\n",
    "- As before, we can begin with our descriptive analysis, starting with the calculation of the means and standard deviations of the formulations:"
   ]
  },
  {
   "cell_type": "code",
   "execution_count": 22,
   "id": "1b7cc2ec",
   "metadata": {},
   "outputs": [
    {
     "name": "stdout",
     "output_type": "stream",
     "text": [
      "<class 'pandas.core.frame.DataFrame'>\n",
      "RangeIndex: 9 entries, 0 to 8\n",
      "Data columns (total 4 columns):\n",
      " #   Column       Non-Null Count  Dtype  \n",
      "---  ------       --------------  -----  \n",
      " 0   Machine      9 non-null      object \n",
      " 1   Operator     9 non-null      object \n",
      " 2   Formulation  9 non-null      object \n",
      " 3   PSI          9 non-null      float64\n",
      "dtypes: float64(1), object(3)\n",
      "memory usage: 420.0+ bytes\n",
      "None\n",
      "                   mean       std\n",
      "Formulation                      \n",
      "F1           265.693533  2.638557\n",
      "F2           273.585900  2.063751\n",
      "F3           294.298500  2.487777\n"
     ]
    }
   ],
   "source": [
    "## Import Necessary Packages ##\n",
    "import pandas as pd\n",
    "import numpy as np\n",
    "import scipy.stats as stats\n",
    "import seaborn as sns\n",
    "import matplotlib.pyplot as plt\n",
    "import statsmodels.api as sm\n",
    "from statsmodels.formula.api import ols\n",
    "from statsmodels.stats.multicomp import pairwise_tukeyhsd\n",
    "\n",
    "## Read in Latin Square Dog Toys Data ##\n",
    "\n",
    "dog_toys = pd.read_excel(\"Latin Square Dog Toys.xlsx\")\n",
    "\n",
    "## Data Integrity Check ##\n",
    "\n",
    "print(dog_toys.info())\n",
    "\n",
    "## Calcualte Means and Standard Deviations ##\n",
    "\n",
    "sum_stats = dog_toys.groupby(\"Formulation\")[\"PSI\"].agg(['mean','std'])\n",
    "\n",
    "print(sum_stats)"
   ]
  },
  {
   "cell_type": "markdown",
   "id": "67b2e156",
   "metadata": {},
   "source": [
    "- From these results, it looks like Formulation 3 provides the greatest durability compared to the other two formulations.\n",
    "\n",
    "- Now, we can visualize this information with a boxplot as before.\n",
    "\n",
    "- Note, I'm going to just look at boxplots of the formulations rather than partition them into subgroups based on operator and machine.\n",
    "\n",
    "    - The reason for this is that we only have one observation per combination of treatment and blocking effects which makes a boxplot not terribly informative."
   ]
  },
  {
   "cell_type": "code",
   "execution_count": 23,
   "id": "b2b5cc81",
   "metadata": {},
   "outputs": [
    {
     "data": {
      "image/png": "[encoded data removed]",
      "text/plain": [
       "<Figure size 640x480 with 1 Axes>"
      ]
     },
     "metadata": {},
     "output_type": "display_data"
    }
   ],
   "source": [
    "## Build a Boxplot ##\n",
    "\n",
    "## Set up style ##\n",
    "\n",
    "sns.set_style(\"whitegrid\")\n",
    "\n",
    "## Specify Aesthetics ##\n",
    "\n",
    "sns.boxplot(\n",
    "    data=dog_toys,\n",
    "    x='Formulation',\n",
    "    y='PSI'\n",
    ")\n",
    "\n",
    "## Add labels and titles ##\n",
    "\n",
    "plt.title(\"Breaking PSI of Different Rubber Formulations\\nDog Toy Durability Test\",\n",
    "          loc='center',\n",
    "          fontsize=16)\n",
    "\n",
    "## Show the plot ##\n",
    "\n",
    "plt.show()"
   ]
  },
  {
   "cell_type": "markdown",
   "id": "3f959135",
   "metadata": {},
   "source": [
    "- As shown here, we have very clear separation between Formulation 3 and the other two Formulations.\n",
    "\n",
    "    - We also have very clear separation between F2 and F1.\n",
    "\n",
    "- In general, it seems like we have very low amounts of within group variation. But since none of the boxes overlap at all, this may indicate that all three formulations' breaking PSI differ substantially.\n",
    "\n",
    "- Let's put this to the test by using our F-test. But what does this look like for a LSD?\n",
    "\n",
    "### Inferential Analysis\n",
    "\n",
    "- For a $t\\times t$ LSD, our model is:\n",
    "\n",
    "$$ y_{ijk} = \\mu + \\alpha_i + \\tau_j + \\beta_k + \\varepsilon_{ijk} $$\n",
    "\n",
    "- Here:\n",
    "    - $\\mu$ still denotes the overall mean, \n",
    "    - $\\alpha_i$ is the $i$th effect of the first blocking variable, \n",
    "    - $\\tau_j$ is the $j$th treatment effect, \n",
    "    - $\\beta_k$ is the $k$th effect of the second blocking variable, and \n",
    "    - $\\varepsilon_{ijk}$ is the random error term as before.\n",
    "\n",
    "- Recall from the lecture on RBD that the Fundamental ANOVA Identity tells us that total variation, as measured by SSTotal, can be partitioned into Explained Variation and Unexplained Variation.\n",
    "\n",
    "- In LSD, that means:\n",
    "\n",
    "$$ SSTotal = SSTreat + SSBlock_1 + SSBlock_2 + SSE $$\n",
    "\n",
    "**LSD ANOVA Table**\n",
    "\n",
    "| **Source**   | **df**                  | **SS**             | **MS**                                         | **F-Statistic**                                  |\n",
    "|--------------|-------------------------|--------------------|------------------------------------------------|--------------------------------------------------|\n",
    "| Treatments   | $t - 1$                 | $SS_{\\text{Treat}}$   | $\\frac{\\text{SS}_{\\text{Treat}}}{t - 1}$       | $\\frac{\\text{MS}_{\\text{Treat}}}{\\text{MS}_{\\text{Error}}}$ |\n",
    "| Block 1      | $t - 1$                 | $SSBlock_{1}$         | $\\frac{\\text{SSBlock}_{1}}{t - 1}$             | $\\frac{\\text{MS}_{\\text{B1}}}{\\text{MS}_{\\text{Error}}}$     |\n",
    "| Block 2      | $t - 1$                 | $SSBlock_{2}$         | $\\frac{\\text{SSBlock}_{2}}{t - 1}$             | $\\frac{\\text{MS}_{\\text{B2}}}{\\text{MS}_{\\text{Error}}}$     |\n",
    "| Error        | $(t - 1)(t - 2)$        | $SS_{\\text{Error}}$   | $\\frac{\\text{SS}_{\\text{Error}}}{df_{\\text{Error}}}$ | —                                                  |\n",
    "| Total        | $t^2 - 1$               | $SS_{\\text{Total}}$   | —                                              | —                                                  |\n",
    "\n",
    "\n",
    "- Recall from RBD, we only care about the hypothesis test for our treatment effect:\n",
    "\n",
    "$$ H_0: \\mu_1 = \\mu_2 = \\dots = \\mu_t $$ \n",
    "\n",
    "$$ H_1: \\text{At least two group means differ} $$\n",
    "\n",
    "- If $F_{stat} = MS_{Treat}/MSE > F_{CV}$ for some given value of $\\alpha$, then this indicates that the data more strongly support the alternative hypothesis.\n",
    "\n",
    "- After we've fit the model using the `ols` function and checked our assumptions of normality and constant variance, we can go ahead and perform our omnibus F-test as before:"
   ]
  },
  {
   "cell_type": "code",
   "execution_count": 24,
   "id": "65736f81",
   "metadata": {},
   "outputs": [
    {
     "data": {
      "image/png": "[encoded data removed]",
      "text/plain": [
       "<Figure size 800x800 with 1 Axes>"
      ]
     },
     "metadata": {},
     "output_type": "display_data"
    },
    {
     "name": "stdout",
     "output_type": "stream",
     "text": [
      "ShapiroResult(statistic=np.float64(0.8228062541187686), pvalue=np.float64(0.03706477120880255))\n"
     ]
    }
   ],
   "source": [
    "## Fit ANOVA Model ##\n",
    "\n",
    "lsd_mod = ols(\"PSI~Formulation+Machine+Operator\",data=dog_toys).fit()\n",
    "\n",
    "## Extract Residuals ##\n",
    "\n",
    "residuals = lsd_mod.resid\n",
    "\n",
    "## Plot QQ-Plot ##\n",
    "\n",
    "fig = plt.figure(figsize= (10, 10))\n",
    "ax = fig.add_subplot(111)\n",
    "\n",
    "normality_plot, stat = stats.probplot(residuals, plot=plt, rvalue=True)\n",
    "ax.set_title(\"Probability Plot of Model Residuals\", fontsize=20)\n",
    "ax.set\n",
    "\n",
    "plt.show()\n",
    "\n",
    "## S-W Test ##\n",
    "\n",
    "print(stats.shapiro(residuals))"
   ]
  },
  {
   "cell_type": "markdown",
   "id": "891eac22",
   "metadata": {},
   "source": [
    "- Here, because we have so few observations, a single observation can greatly sway our results. So we need to interpret with a bit of caution. \n",
    "\n",
    "- In the QQ-Plot, generally the points follow the center diagonal line. There is some deviation but not severe.\n",
    "\n",
    "- The p-value associated with the S-W Test of Normality indicates that the data more strongly support the alternative hypothesis of non-normality.\n",
    "\n",
    "- However, since we have so few data points, and since the QQ-Plot generally looks good, I'm going to conclude that the normality assumption is reasonably (emphasis on reasonably) met.\n",
    "\n",
    "- Let's move onto constant variance:"
   ]
  },
  {
   "cell_type": "code",
   "execution_count": 25,
   "id": "03bc2ca3",
   "metadata": {},
   "outputs": [
    {
     "data": {
      "image/png": "[encoded data removed]",
      "text/plain": [
       "<Figure size 640x480 with 1 Axes>"
      ]
     },
     "metadata": {},
     "output_type": "display_data"
    },
    {
     "name": "stdout",
     "output_type": "stream",
     "text": [
      "F-statistic: 5.362173127832106e-17\n",
      "F p-value: 0.9999999999999999\n"
     ]
    }
   ],
   "source": [
    "## Assessing Constant Variance ##\n",
    "\n",
    "## Scatterplot of Standardized Residuals to Fitted Values ##\n",
    "\n",
    "## Obtain Standardized Residuals ##\n",
    "\n",
    "standardized_residuals = lsd_mod.get_influence().resid_studentized_internal\n",
    "\n",
    "## Get the fitted values ##\n",
    "\n",
    "fitted_values = lsd_mod.fittedvalues\n",
    "\n",
    "## Create the plot ##\n",
    "\n",
    "plt.figure(figsize=(8, 6))\n",
    "plt.scatter(fitted_values, standardized_residuals)\n",
    "plt.axhline(y=0, linestyle='dashed', color='red')\n",
    "plt.axhline(y=3, color='blue')\n",
    "plt.axhline(y=-3, color='blue')\n",
    "plt.xlabel(\"Predicted y's\")\n",
    "plt.ylabel(\"Standardized Residuals\")\n",
    "plt.title(\"Standardized Residuals vs. Fitted Values\")\n",
    "plt.style.use('classic')\n",
    "plt.show()\n",
    "\n",
    "## B-P Test ##\n",
    "\n",
    "## Import necessary function: ##\n",
    "\n",
    "from statsmodels.stats.diagnostic import het_breuschpagan\n",
    "\n",
    "## Run B-P Test ##\n",
    "\n",
    "bp_test = het_breuschpagan(lsd_mod.resid,lsd_mod.model.exog)\n",
    "\n",
    "## Extract F-statistic ##\n",
    "\n",
    "f_statistic = bp_test[2]\n",
    "\n",
    "## Extract its P-Value ##\n",
    "\n",
    "f_p_value = bp_test[3]\n",
    "\n",
    "print(f\"F-statistic: {f_statistic}\")\n",
    "print(f\"F p-value: {f_p_value}\")"
   ]
  },
  {
   "cell_type": "markdown",
   "id": "dc9ece27",
   "metadata": {},
   "source": [
    "- Here, we have a little rosier picture. In the scatterplot:\n",
    "    - The points are randomly scattered about 0\n",
    "    - The heights of the vertical lines are generally the same length\n",
    "    - No obvious outliers (above +3 or below -3)\n",
    "\n",
    "- The p-value associated with the B-P test indicates that the data more strongly support the null hypothesis of constant variance.\n",
    "\n",
    "- Thus, for the above reasons, the constant variance assumption is reasonably met and we can proceed with making inference safely:"
   ]
  },
  {
   "cell_type": "code",
   "execution_count": 26,
   "id": "067412c8",
   "metadata": {},
   "outputs": [
    {
     "name": "stdout",
     "output_type": "stream",
     "text": [
      "                  sum_sq   df           F    PR(>F)\n",
      "Formulation  1309.545368  2.0  131.360633  0.007555\n",
      "Machine         5.148951  2.0    0.516492  0.659417\n",
      "Operator       19.702128  2.0    1.976323  0.335985\n",
      "Residual        9.969085  2.0         NaN       NaN\n"
     ]
    }
   ],
   "source": [
    "## Print ANOVA Table ##\n",
    "print(sm.stats.anova_lm(lsd_mod,typ=2))"
   ]
  },
  {
   "cell_type": "markdown",
   "id": "5b710738",
   "metadata": {},
   "source": [
    "- As was the case with RBD, we ignore the tests associated with our blocking factors.\n",
    "\n",
    "- Examining our main effect, the p-value associated with this factor, `Formulation`, is 0.008.\n",
    "\n",
    "- This indicates that the data more strongly support the alternative hypothesis, indicating that at least two of our formulations may have meaningfully differing mean breaking PSI values, from a statistical perspective.\n",
    "\n",
    "    - We had deduced this conclusion from the boxplot.\n",
    "\n",
    "- To determine which group means may have statistically meaningful differences, we can use Tukey's HSD post hoc test as before:"
   ]
  },
  {
   "cell_type": "code",
   "execution_count": 27,
   "id": "1a003fe7",
   "metadata": {},
   "outputs": [
    {
     "name": "stdout",
     "output_type": "stream",
     "text": [
      "Multiple Comparison of Means - Tukey HSD, FWER=0.05 \n",
      "====================================================\n",
      "group1 group2 meandiff p-adj   lower   upper  reject\n",
      "----------------------------------------------------\n",
      "    F1     F2   7.8924 0.0165  1.8572 13.9275   True\n",
      "    F1     F3   28.605    0.0 22.5698 34.6401   True\n",
      "    F2     F3  20.7126 0.0001 14.6774 26.7478   True\n",
      "----------------------------------------------------\n"
     ]
    }
   ],
   "source": [
    "## Tukey's HSD Function Already Imported Above ##\n",
    "\n",
    "tukey_result = pairwise_tukeyhsd(endog=dog_toys['PSI'], groups=dog_toys['Formulation'], \n",
    "                                 alpha=0.05)\n",
    "\n",
    "print(tukey_result)"
   ]
  },
  {
   "cell_type": "markdown",
   "id": "ba7456cb",
   "metadata": {},
   "source": [
    "- From the output, we can see that the mean PSI for F3 may possess statistically meaningful differences from F1 and F2, controlling for operator and machine effects.\n",
    "\n",
    "- F1 and F2 may also have a statistically meaningful difference from each other, controlling for operator and machine effects, at the 0.05 level\n",
    "\n",
    "- Contextually, if we were making the choice between the three formulations based on durability, we should probably go with Formulation 3.\n",
    "\n",
    "## Final Thoughts\n",
    "\n",
    "- The LSD is an efficient design for controlling two nuisance factors.\n",
    "    - We can extend this to three blocking factors in the ***Greco-Latin Square Design***.\n",
    "\n",
    "- However, it does have some limitations. First, like RBD, we assume no interaction between the blocks and the treatment effect. This may not always be reasonable.\n",
    "\n",
    "- Second, the \"Square\" of \"Latin Square\" restricts the number of levels of our treatment and blocking effects.\n",
    "\n",
    "- Finally, while we can increase the number of replicates through multiple runs of the same experiments, we then have to account for this in a Greco-Latin Square type of design as the run of the experiment can be considered another block.\n",
    "\n",
    "- So in short, while LSD has some nice features, it also has disadvantages.\n",
    "\n",
    "- We will talk about alternatives as the semester progresses."
   ]
  }
 ],
 "metadata": {
  "language_info": {
   "name": "python"
  }
 },
 "nbformat": 4,
 "nbformat_minor": 5
}
