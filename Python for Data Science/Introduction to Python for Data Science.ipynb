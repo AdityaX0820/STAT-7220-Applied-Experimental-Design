{
 "cells": [
  {
   "cell_type": "markdown",
   "id": "62032799",
   "metadata": {},
   "source": [
    "# Intro to Python Programming for Data Science\n",
    "## Dr Austin R Brown\n",
    "## School of Data Science and Analytics\n",
    "### Kennesaw State University"
   ]
  },
  {
   "cell_type": "markdown",
   "id": "ace21525",
   "metadata": {},
   "source": [
    "## Why Learn Python?  \n",
    "- You may be asking yourself, out of all of the possible programming languages which exist, why should I spend time learning Python?\n",
    "\n",
    "- Great question!\n",
    "\n",
    "- Python is a useful tool and worthwhile to learn for several reasons:\n",
    "    1. It's free!\n",
    "    2. Because it's open source, thousands of people have contributed packages and functions at a pace that proprietary softwares can't compete with\n",
    "    3. It is a very flexible and robust general programming language, meaning there's a lot you can do with it in the data science space and beyond!\n",
    "    4. It has become basically the standard in industry\n",
    "\n",
    "## So What is Python?\n",
    "\n",
    "- Python is command-line, object-oriented general programming language commonly used for data analysis, data science and statistics.\n",
    "\n",
    "- **Command-line** means that we have to give it commands in order for us to get it to do something. For example:"
   ]
  },
  {
   "cell_type": "code",
   "execution_count": 9,
   "id": "4a011d3c",
   "metadata": {},
   "outputs": [
    {
     "data": {
      "text/plain": [
       "5"
      ]
     },
     "execution_count": null,
     "metadata": {},
     "output_type": "execute_result"
    }
   ],
   "source": [
    "## What is the sum of 2 & 3? ##\n",
    "2 + 3"
   ]
  },
  {
   "cell_type": "markdown",
   "id": "00e1b5db",
   "metadata": {},
   "source": [
    "**Object-oriented** means that we can save individual pieces of output as some name that we can use later. This is a super handy feature, especially when you have complicated scripts! For example:"
   ]
  },
  {
   "cell_type": "code",
   "execution_count": 10,
   "id": "1f97bae9",
   "metadata": {},
   "outputs": [
    {
     "name": "stdout",
     "output_type": "stream",
     "text": [
      "5\n",
      "10\n"
     ]
    }
   ],
   "source": [
    "## Save 2 + 3 as \"a\" ##\n",
    "a = 2 + 3\n",
    "print(a)\n",
    "print(a*2)"
   ]
  },
  {
   "cell_type": "markdown",
   "id": "b1c203d1",
   "metadata": {},
   "source": [
    "## What Can Python do?\n",
    "\n",
    "- What can Python do? Well, for the purpose of data analytics, I have yet to find a limit!\n",
    "\n",
    "- In this class, we will be learning how to use Python as a tool in the data science workflow with specific attention placed on designing and evaluating experiments (more on that in the first week's lecture!)\n",
    "\n",
    "- What is the data science workflow? Let's take a look!\n",
    "\n",
    "![From R for Data Science 2nd Edition](Data%20Science%20Workflow.png)\n",
    "\n",
    "## Importing Data/Data Loading\n",
    "\n",
    "- Since a major reason we use Python is for the analysis of data, we need to know how to import/load data from various sources and file formats into our Python programming environment.\n",
    "\n",
    "- There are a variety of ways of importing data into our Python programming environment, which largely depend on the type of datafile that you are importing (e.g., Excel file, CSV file, text file, SAS dataset, SPSS dataset, etc.).\n",
    "\n",
    "- While there are lots of different files which can be imported into our Python programming environment (Google/GenAI is an excellent resource for searching for code for how to start to do something), we're going to focus on two main types: Excel and CSV\n",
    "\n",
    "- For example, let's try importing a CSV file using Python. This file is part of the famous Framingham Heart Study and is called `HEART.csv` and is located in the `Python for Data Science` subfolder that's part of our class GitHub repo.\n",
    "\n",
    "- To read in this CSV file using Python, we will use the `read_csv` function, which is part of the famous `pandas` package.\n",
    "\n",
    "### Defining Packages and Functions\n",
    "\n",
    "- Okay, but before we get into reading in the `HEART` CSV file, what in the world is a package and function??\n",
    "\n",
    "- We can think of packages like toolboxes in a mechanic's shop. Each toolbox contains different tools used for specific purposes.\n",
    "\n",
    "- To access a particular tool, we have to go to the right toolbox.\n",
    "    - A toolbox is like a package\n",
    "    - The tools within the toolbox are like functions within a package\n",
    "\n",
    "- Thus, `read_csv` is a tool (function) within the `pandas` toolbox (package).\n",
    "\n",
    "- A function can also be thought of like a mathematical function: we provide some input and some specific output is returned. Now, while our Python programming enviroment comes with some functions pre-loaded, almost all others in existence have to be installed from the web, including `pandas`.\n",
    "\n",
    "- To install a Python package, we have to use a particular command line function called `pip` which is a recursive acroymn for \"pip installs packages\". \n",
    "    - In brief, `pip` is a package management system used to install and manage software packages written in Python.\n",
    "\n",
    "- Since we need `pandas` to load the `HEART.csv` file, we can install by using:"
   ]
  },
  {
   "cell_type": "code",
   "execution_count": null,
   "id": "ea6486b8",
   "metadata": {},
   "outputs": [],
   "source": [
    "## Install pandas using pip ##\n",
    "%pip install pandas;"
   ]
  },
  {
   "cell_type": "markdown",
   "id": "51a81cb4",
   "metadata": {},
   "source": [
    "- Now, we can load the `pandas` library into our current Python environment by using the `import` function. Note, to access the functions within a package, we have to use the following code syntax: `package_name.function_name`\n",
    "\n",
    "- So typically when we import a package, we shorten its name to something to allow for brevity in our code.\n",
    "    - `pandas` is almost universally imported as `pd`"
   ]
  },
  {
   "cell_type": "code",
   "execution_count": null,
   "id": "51e3e139",
   "metadata": {},
   "outputs": [
    {
     "ename": "ModuleNotFoundError",
     "evalue": "No module named 'pandas'",
     "output_type": "error",
     "traceback": [
      "\u001b[1;31m---------------------------------------------------------------------------\u001b[0m\n",
      "\u001b[1;31mModuleNotFoundError\u001b[0m                       Traceback (most recent call last)\n",
      "Cell \u001b[1;32mIn[8], line 2\u001b[0m\n",
      "\u001b[0;32m      1\u001b[0m \u001b[38;5;66;03m## Load pandas library ##\u001b[39;00m\n",
      "\u001b[1;32m----> 2\u001b[0m \u001b[38;5;28;01mimport\u001b[39;00m\u001b[38;5;250m \u001b[39m\u001b[38;5;21;01mpandas\u001b[39;00m\u001b[38;5;250m \u001b[39m\u001b[38;5;28;01mas\u001b[39;00m\u001b[38;5;250m \u001b[39m\u001b[38;5;21;01mpd\u001b[39;00m\n",
      "\u001b[0;32m      4\u001b[0m \u001b[38;5;66;03m## Load HEART CSV ##\u001b[39;00m\n",
      "\u001b[0;32m      5\u001b[0m heart \u001b[38;5;241m=\u001b[39m pd\u001b[38;5;241m.\u001b[39mread_csv(\u001b[38;5;124m\"\u001b[39m\u001b[38;5;124mHEART.csv\u001b[39m\u001b[38;5;124m\"\u001b[39m)\n",
      "\n",
      "\u001b[1;31mModuleNotFoundError\u001b[0m: No module named 'pandas'"
     ]
    }
   ],
   "source": [
    "## Load pandas library ##\n",
    "import pandas as pd\n",
    "\n",
    "## Load HEART CSV ##\n",
    "heart = pd.read_csv(\"HEART.csv\")"
   ]
  }
 ],
 "metadata": {
  "language_info": {
   "name": "python"
  }
 },
 "nbformat": 4,
 "nbformat_minor": 5
}
