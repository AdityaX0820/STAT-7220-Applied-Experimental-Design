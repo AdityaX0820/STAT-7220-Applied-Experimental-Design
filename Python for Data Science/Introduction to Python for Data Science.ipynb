{
 "cells": [
  {
   "cell_type": "markdown",
   "id": "62032799",
   "metadata": {},
   "source": [
    "# Intro to Python Programming for Data Science\n",
    "## Dr Austin R Brown\n",
    "## School of Data Science and Analytics\n",
    "### Kennesaw State University"
   ]
  },
  {
   "cell_type": "markdown",
   "id": "ace21525",
   "metadata": {},
   "source": [
    "## Why Learn Python?  \n",
    "- You may be asking yourself, out of all of the possible programming languages which exist, why should I spend time learning Python?\n",
    "\n",
    "- Great question!\n",
    "\n",
    "- Python is a useful tool and worthwhile to learn for several reasons:\n",
    "    1. It's free!\n",
    "    2. Because it's open source, thousands of people have contributed packages and functions at a pace that proprietary softwares can't compete with\n",
    "    3. It is a very flexible and robust general programming language, meaning there's a lot you can do with it in the data science space and beyond!\n",
    "    4. It has become basically the standard in industry\n",
    "\n",
    "## So What is Python?\n",
    "\n",
    "- Python is command-line, object-oriented general programming language commonly used for data analysis, data science and statistics.\n",
    "\n",
    "- **Command-line** means that we have to give it commands in order for us to get it to do something. For example:"
   ]
  },
  {
   "cell_type": "code",
   "execution_count": 4,
   "id": "4a011d3c",
   "metadata": {},
   "outputs": [
    {
     "data": {
      "text/plain": [
       "5"
      ]
     },
     "execution_count": null,
     "metadata": {},
     "output_type": "execute_result"
    }
   ],
   "source": [
    "## What is the sum of 2 & 3? ##\n",
    "2 + 3"
   ]
  },
  {
   "cell_type": "markdown",
   "id": "00e1b5db",
   "metadata": {},
   "source": [
    "**Object-oriented** means that we can save individual pieces of output as some name that we can use later. This is a super handy feature, especially when you have complicated scripts! For example:"
   ]
  },
  {
   "cell_type": "code",
   "execution_count": 5,
   "id": "1f97bae9",
   "metadata": {},
   "outputs": [
    {
     "name": "stdout",
     "output_type": "stream",
     "text": [
      "5\n",
      "10\n"
     ]
    }
   ],
   "source": [
    "## Save 2 + 3 as \"a\" ##\n",
    "a = 2 + 3\n",
    "print(a)\n",
    "print(a*2)"
   ]
  },
  {
   "cell_type": "markdown",
   "id": "b1c203d1",
   "metadata": {},
   "source": []
  }
 ],
 "metadata": {
  "language_info": {
   "name": "python"
  }
 },
 "nbformat": 4,
 "nbformat_minor": 5
}
