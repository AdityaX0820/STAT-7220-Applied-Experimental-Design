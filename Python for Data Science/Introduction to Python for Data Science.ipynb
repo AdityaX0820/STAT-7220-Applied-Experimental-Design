{
  "cells": [
    {
      "cell_type": "markdown",
      "id": "62032799",
      "metadata": {
        "id": "62032799"
      },
      "source": [
        "# Intro to Python Programming for Data Science\n",
        "## Dr Austin R Brown\n",
        "## School of Data Science and Analytics\n",
        "### Kennesaw State University"
      ]
    },
    {
      "cell_type": "markdown",
      "id": "ba95023e",
      "metadata": {
        "id": "ba95023e"
      },
      "source": [
        "[![Open in Colab](https://colab.research.google.com/assets/colab-badge.svg)](https://colab.research.google.com/github/abrown9008/STAT-7220-Applied-Experimental-Design/blob/main/Python%20for%20Data%20Science/Introduction%20to%20Python%20for%20Data%20Science.ipynb)"
      ]
    },
    {
      "cell_type": "code",
      "execution_count": 16,
      "id": "1452b8fe",
      "metadata": {
        "id": "1452b8fe",
        "outputId": "34e2e131-9736-401f-cecd-5639612e67ad",
        "colab": {
          "base_uri": "https://localhost:8080/"
        }
      },
      "outputs": [
        {
          "output_type": "stream",
          "name": "stdout",
          "text": [
            "/content/STAT-7220-Applied-Experimental-Design\n",
            "'2K Factorial Design'\t\t   'Introduction to Experimental Design'\n",
            "'Comparative Experiments'\t   'Python for Data Science'\n",
            "'Experiments with Random Factors'  'Random Block Design and Latin Squares'\n",
            "'Factorial Designs'\t\t    README.md\n",
            "'Fractional Factorial Design'\t    STAT-7220-Applied-Experimental-Design\n",
            "'2K Factorial Design'\t\t   'Introduction to Experimental Design'\n",
            "'Comparative Experiments'\t   'Python for Data Science'\n",
            "'Experiments with Random Factors'  'Random Block Design and Latin Squares'\n",
            "'Factorial Designs'\t\t    README.md\n",
            "'Fractional Factorial Design'\n"
          ]
        }
      ],
      "source": [
        "## Remove the # from the left of the below\n",
        "## lines of code and execute. This will clone the class\n",
        "## repository to your Colab and set your working drive\n",
        "## to today's lecture file ##\n",
        "\n",
        "##### NOTE: YOU ONLY NEED TO RUN THE CLONE CODE BELOW ONCE AND ONLY\n",
        "##### ONCE. ONCE WE DO IT AT THE BEGINNING OF THE SEMESTER, IT WON'T\n",
        "##### AGAIN BE REQUIRED ############################################\n",
        "\n",
        "#!git clone https://github.com/abrown9008/STAT-7220-Applied-Experimental-Design.git\n",
        "\n",
        "#%cd /content/STAT-7220-Applied-Experimental-Design/Python for Data Science"
      ]
    },
    {
      "cell_type": "markdown",
      "id": "ace21525",
      "metadata": {
        "id": "ace21525"
      },
      "source": [
        "## Why Learn Python?  \n",
        "- You may be asking yourself, out of all of the possible programming languages which exist, why should I spend time learning Python?\n",
        "\n",
        "- Great question!\n",
        "\n",
        "- Python is a useful tool and worthwhile to learn for several reasons:\n",
        "    1. It's free!\n",
        "    2. Because it's open source, thousands of people have contributed packages and functions at a pace that proprietary softwares can't compete with\n",
        "    3. It is a very flexible and robust general programming language, meaning there's a lot you can do with it in the data science space and beyond!\n",
        "    4. It has become basically the standard in industry\n",
        "\n",
        "## So What is Python?\n",
        "\n",
        "- Python is command-line, object-oriented general programming language commonly used for data analysis, data science and statistics.\n",
        "\n",
        "- **Command-line** means that we have to give it commands in order for us to get it to do something. For example:"
      ]
    },
    {
      "cell_type": "code",
      "execution_count": null,
      "id": "4a011d3c",
      "metadata": {
        "id": "4a011d3c",
        "outputId": "c5efcf38-8ec4-42a5-dc32-886d29cc3401"
      },
      "outputs": [
        {
          "data": {
            "text/plain": [
              "5"
            ]
          },
          "execution_count": null,
          "metadata": {},
          "output_type": "execute_result"
        }
      ],
      "source": [
        "## What is the sum of 2 & 3? ##\n",
        "2 + 3"
      ]
    },
    {
      "cell_type": "markdown",
      "id": "00e1b5db",
      "metadata": {
        "id": "00e1b5db"
      },
      "source": [
        "**Object-oriented** means that we can save individual pieces of output as some name that we can use later. This is a super handy feature, especially when you have complicated scripts! For example:"
      ]
    },
    {
      "cell_type": "code",
      "execution_count": null,
      "id": "1f97bae9",
      "metadata": {
        "id": "1f97bae9",
        "outputId": "8f770594-4892-45f8-847a-abd5e28144f0"
      },
      "outputs": [
        {
          "name": "stdout",
          "output_type": "stream",
          "text": [
            "5\n",
            "10\n"
          ]
        }
      ],
      "source": [
        "## Save 2 + 3 as \"a\" ##\n",
        "a = 2 + 3\n",
        "print(a)\n",
        "print(a*2)"
      ]
    },
    {
      "cell_type": "markdown",
      "id": "b1c203d1",
      "metadata": {
        "id": "b1c203d1"
      },
      "source": [
        "## What Can Python do?\n",
        "\n",
        "- What can Python do? Well, for the purpose of data analytics, I have yet to find a limit!\n",
        "\n",
        "- In this class, we will be learning how to use Python as a tool in the data science workflow with specific attention placed on designing and evaluating experiments (more on that in the first week's lecture!)\n",
        "\n",
        "- What is the data science workflow? Let's take a look!\n",
        "\n",
        "![From R for Data Science 2nd Edition](https://github.com/abrown9008/STAT-7220-Applied-Experimental-Design/blob/main/Python%20for%20Data%20Science/Data%20Science%20Workflow.png?raw=1)\n",
        "\n",
        "## Importing Data/Data Loading\n",
        "\n",
        "- Since a major reason we use Python is for the analysis of data, we need to know how to import/load data from various sources and file formats into our Python programming environment.\n",
        "\n",
        "- There are a variety of ways of importing data into our Python programming environment, which largely depend on the type of datafile that you are importing (e.g., Excel file, CSV file, text file, SAS dataset, SPSS dataset, etc.).\n",
        "\n",
        "- While there are lots of different files which can be imported into our Python programming environment (Google/GenAI is an excellent resource for searching for code for how to start to do something), we're going to focus on two main types: Excel and CSV\n",
        "\n",
        "- For example, let's try importing a CSV file using Python. This file is part of the famous Framingham Heart Study and is called `HEART.csv` and is located in the `Python for Data Science` subfolder that's part of our class GitHub repo.\n",
        "\n",
        "- To read in this CSV file using Python, we will use the `read_csv` function, which is part of the famous `pandas` package.\n",
        "\n",
        "### Defining Packages and Functions\n",
        "\n",
        "- Okay, but before we get into reading in the `HEART` CSV file, what in the world is a package and function??\n",
        "\n",
        "- We can think of packages like toolboxes in a mechanic's shop. Each toolbox contains different tools used for specific purposes.\n",
        "\n",
        "- To access a particular tool, we have to go to the right toolbox.\n",
        "    - A toolbox is like a package\n",
        "    - The tools within the toolbox are like functions within a package\n",
        "\n",
        "- Thus, `read_csv` is a tool (function) within the `pandas` toolbox (package).\n",
        "\n",
        "- A function can also be thought of like a mathematical function: we provide some input and some specific output is returned. Now, while our Python programming enviroment comes with some functions pre-loaded, almost all others in existence have to be installed from the web, including `pandas`.\n",
        "\n",
        "- To install a Python package, we have to use a particular command line function called `pip` which is a recursive acroymn for \"pip installs packages\".\n",
        "    - In brief, `pip` is a package management system used to install and manage software packages written in Python.\n",
        "\n",
        "- Since we need `pandas` to load the `HEART.csv` file, we can install by using:"
      ]
    },
    {
      "cell_type": "code",
      "execution_count": null,
      "id": "ea6486b8",
      "metadata": {
        "id": "ea6486b8"
      },
      "outputs": [],
      "source": [
        "## Install pandas using pip ##\n",
        "## Remove the # to the left of %pip\n",
        "## before executing the code ##\n",
        "\n",
        "#%pip install pandas"
      ]
    },
    {
      "cell_type": "markdown",
      "id": "51a81cb4",
      "metadata": {
        "id": "51a81cb4"
      },
      "source": [
        "- Now, we can load the `pandas` library into our current Python environment by using the `import` function. Note, to access the functions within a package, we have to use the following code syntax: `package_name.function_name`\n",
        "\n",
        "- So typically when we import a package, we shorten its name to something to allow for brevity in our code.\n",
        "    - `pandas` is almost universally imported as `pd`"
      ]
    },
    {
      "cell_type": "code",
      "execution_count": null,
      "id": "51e3e139",
      "metadata": {
        "id": "51e3e139",
        "outputId": "cfb507ef-dadb-4008-c8d4-39fcf7cf74f4"
      },
      "outputs": [
        {
          "ename": "FileNotFoundError",
          "evalue": "[Errno 2] No such file or directory: 'HEART.csv'",
          "output_type": "error",
          "traceback": [
            "\u001b[1;31m---------------------------------------------------------------------------\u001b[0m\n",
            "\u001b[1;31mFileNotFoundError\u001b[0m                         Traceback (most recent call last)\n",
            "Cell \u001b[1;32mIn[29], line 5\u001b[0m\n",
            "\u001b[0;32m      2\u001b[0m \u001b[38;5;28;01mimport\u001b[39;00m\u001b[38;5;250m \u001b[39m\u001b[38;5;21;01mpandas\u001b[39;00m\u001b[38;5;250m \u001b[39m\u001b[38;5;28;01mas\u001b[39;00m\u001b[38;5;250m \u001b[39m\u001b[38;5;21;01mpd\u001b[39;00m\n",
            "\u001b[0;32m      4\u001b[0m \u001b[38;5;66;03m## Load HEART CSV ##\u001b[39;00m\n",
            "\u001b[1;32m----> 5\u001b[0m heart \u001b[38;5;241m=\u001b[39m \u001b[43mpd\u001b[49m\u001b[38;5;241;43m.\u001b[39;49m\u001b[43mread_csv\u001b[49m\u001b[43m(\u001b[49m\u001b[38;5;124;43m\"\u001b[39;49m\u001b[38;5;124;43mHEART.csv\u001b[39;49m\u001b[38;5;124;43m\"\u001b[39;49m\u001b[43m)\u001b[49m\n",
            "\n",
            "File \u001b[1;32m~\\AppData\\Local\\Programs\\Python\\Python312\\Lib\\site-packages\\pandas\\io\\parsers\\readers.py:1026\u001b[0m, in \u001b[0;36mread_csv\u001b[1;34m(filepath_or_buffer, sep, delimiter, header, names, index_col, usecols, dtype, engine, converters, true_values, false_values, skipinitialspace, skiprows, skipfooter, nrows, na_values, keep_default_na, na_filter, verbose, skip_blank_lines, parse_dates, infer_datetime_format, keep_date_col, date_parser, date_format, dayfirst, cache_dates, iterator, chunksize, compression, thousands, decimal, lineterminator, quotechar, quoting, doublequote, escapechar, comment, encoding, encoding_errors, dialect, on_bad_lines, delim_whitespace, low_memory, memory_map, float_precision, storage_options, dtype_backend)\u001b[0m\n",
            "\u001b[0;32m   1013\u001b[0m kwds_defaults \u001b[38;5;241m=\u001b[39m _refine_defaults_read(\n",
            "\u001b[0;32m   1014\u001b[0m     dialect,\n",
            "\u001b[0;32m   1015\u001b[0m     delimiter,\n",
            "\u001b[1;32m   (...)\u001b[0m\n",
            "\u001b[0;32m   1022\u001b[0m     dtype_backend\u001b[38;5;241m=\u001b[39mdtype_backend,\n",
            "\u001b[0;32m   1023\u001b[0m )\n",
            "\u001b[0;32m   1024\u001b[0m kwds\u001b[38;5;241m.\u001b[39mupdate(kwds_defaults)\n",
            "\u001b[1;32m-> 1026\u001b[0m \u001b[38;5;28;01mreturn\u001b[39;00m \u001b[43m_read\u001b[49m\u001b[43m(\u001b[49m\u001b[43mfilepath_or_buffer\u001b[49m\u001b[43m,\u001b[49m\u001b[43m \u001b[49m\u001b[43mkwds\u001b[49m\u001b[43m)\u001b[49m\n",
            "\n",
            "File \u001b[1;32m~\\AppData\\Local\\Programs\\Python\\Python312\\Lib\\site-packages\\pandas\\io\\parsers\\readers.py:620\u001b[0m, in \u001b[0;36m_read\u001b[1;34m(filepath_or_buffer, kwds)\u001b[0m\n",
            "\u001b[0;32m    617\u001b[0m _validate_names(kwds\u001b[38;5;241m.\u001b[39mget(\u001b[38;5;124m\"\u001b[39m\u001b[38;5;124mnames\u001b[39m\u001b[38;5;124m\"\u001b[39m, \u001b[38;5;28;01mNone\u001b[39;00m))\n",
            "\u001b[0;32m    619\u001b[0m \u001b[38;5;66;03m# Create the parser.\u001b[39;00m\n",
            "\u001b[1;32m--> 620\u001b[0m parser \u001b[38;5;241m=\u001b[39m \u001b[43mTextFileReader\u001b[49m\u001b[43m(\u001b[49m\u001b[43mfilepath_or_buffer\u001b[49m\u001b[43m,\u001b[49m\u001b[43m \u001b[49m\u001b[38;5;241;43m*\u001b[39;49m\u001b[38;5;241;43m*\u001b[39;49m\u001b[43mkwds\u001b[49m\u001b[43m)\u001b[49m\n",
            "\u001b[0;32m    622\u001b[0m \u001b[38;5;28;01mif\u001b[39;00m chunksize \u001b[38;5;129;01mor\u001b[39;00m iterator:\n",
            "\u001b[0;32m    623\u001b[0m     \u001b[38;5;28;01mreturn\u001b[39;00m parser\n",
            "\n",
            "File \u001b[1;32m~\\AppData\\Local\\Programs\\Python\\Python312\\Lib\\site-packages\\pandas\\io\\parsers\\readers.py:1620\u001b[0m, in \u001b[0;36mTextFileReader.__init__\u001b[1;34m(self, f, engine, **kwds)\u001b[0m\n",
            "\u001b[0;32m   1617\u001b[0m     \u001b[38;5;28mself\u001b[39m\u001b[38;5;241m.\u001b[39moptions[\u001b[38;5;124m\"\u001b[39m\u001b[38;5;124mhas_index_names\u001b[39m\u001b[38;5;124m\"\u001b[39m] \u001b[38;5;241m=\u001b[39m kwds[\u001b[38;5;124m\"\u001b[39m\u001b[38;5;124mhas_index_names\u001b[39m\u001b[38;5;124m\"\u001b[39m]\n",
            "\u001b[0;32m   1619\u001b[0m \u001b[38;5;28mself\u001b[39m\u001b[38;5;241m.\u001b[39mhandles: IOHandles \u001b[38;5;241m|\u001b[39m \u001b[38;5;28;01mNone\u001b[39;00m \u001b[38;5;241m=\u001b[39m \u001b[38;5;28;01mNone\u001b[39;00m\n",
            "\u001b[1;32m-> 1620\u001b[0m \u001b[38;5;28mself\u001b[39m\u001b[38;5;241m.\u001b[39m_engine \u001b[38;5;241m=\u001b[39m \u001b[38;5;28;43mself\u001b[39;49m\u001b[38;5;241;43m.\u001b[39;49m\u001b[43m_make_engine\u001b[49m\u001b[43m(\u001b[49m\u001b[43mf\u001b[49m\u001b[43m,\u001b[49m\u001b[43m \u001b[49m\u001b[38;5;28;43mself\u001b[39;49m\u001b[38;5;241;43m.\u001b[39;49m\u001b[43mengine\u001b[49m\u001b[43m)\u001b[49m\n",
            "\n",
            "File \u001b[1;32m~\\AppData\\Local\\Programs\\Python\\Python312\\Lib\\site-packages\\pandas\\io\\parsers\\readers.py:1880\u001b[0m, in \u001b[0;36mTextFileReader._make_engine\u001b[1;34m(self, f, engine)\u001b[0m\n",
            "\u001b[0;32m   1878\u001b[0m     \u001b[38;5;28;01mif\u001b[39;00m \u001b[38;5;124m\"\u001b[39m\u001b[38;5;124mb\u001b[39m\u001b[38;5;124m\"\u001b[39m \u001b[38;5;129;01mnot\u001b[39;00m \u001b[38;5;129;01min\u001b[39;00m mode:\n",
            "\u001b[0;32m   1879\u001b[0m         mode \u001b[38;5;241m+\u001b[39m\u001b[38;5;241m=\u001b[39m \u001b[38;5;124m\"\u001b[39m\u001b[38;5;124mb\u001b[39m\u001b[38;5;124m\"\u001b[39m\n",
            "\u001b[1;32m-> 1880\u001b[0m \u001b[38;5;28mself\u001b[39m\u001b[38;5;241m.\u001b[39mhandles \u001b[38;5;241m=\u001b[39m \u001b[43mget_handle\u001b[49m\u001b[43m(\u001b[49m\n",
            "\u001b[0;32m   1881\u001b[0m \u001b[43m    \u001b[49m\u001b[43mf\u001b[49m\u001b[43m,\u001b[49m\n",
            "\u001b[0;32m   1882\u001b[0m \u001b[43m    \u001b[49m\u001b[43mmode\u001b[49m\u001b[43m,\u001b[49m\n",
            "\u001b[0;32m   1883\u001b[0m \u001b[43m    \u001b[49m\u001b[43mencoding\u001b[49m\u001b[38;5;241;43m=\u001b[39;49m\u001b[38;5;28;43mself\u001b[39;49m\u001b[38;5;241;43m.\u001b[39;49m\u001b[43moptions\u001b[49m\u001b[38;5;241;43m.\u001b[39;49m\u001b[43mget\u001b[49m\u001b[43m(\u001b[49m\u001b[38;5;124;43m\"\u001b[39;49m\u001b[38;5;124;43mencoding\u001b[39;49m\u001b[38;5;124;43m\"\u001b[39;49m\u001b[43m,\u001b[49m\u001b[43m \u001b[49m\u001b[38;5;28;43;01mNone\u001b[39;49;00m\u001b[43m)\u001b[49m\u001b[43m,\u001b[49m\n",
            "\u001b[0;32m   1884\u001b[0m \u001b[43m    \u001b[49m\u001b[43mcompression\u001b[49m\u001b[38;5;241;43m=\u001b[39;49m\u001b[38;5;28;43mself\u001b[39;49m\u001b[38;5;241;43m.\u001b[39;49m\u001b[43moptions\u001b[49m\u001b[38;5;241;43m.\u001b[39;49m\u001b[43mget\u001b[49m\u001b[43m(\u001b[49m\u001b[38;5;124;43m\"\u001b[39;49m\u001b[38;5;124;43mcompression\u001b[39;49m\u001b[38;5;124;43m\"\u001b[39;49m\u001b[43m,\u001b[49m\u001b[43m \u001b[49m\u001b[38;5;28;43;01mNone\u001b[39;49;00m\u001b[43m)\u001b[49m\u001b[43m,\u001b[49m\n",
            "\u001b[0;32m   1885\u001b[0m \u001b[43m    \u001b[49m\u001b[43mmemory_map\u001b[49m\u001b[38;5;241;43m=\u001b[39;49m\u001b[38;5;28;43mself\u001b[39;49m\u001b[38;5;241;43m.\u001b[39;49m\u001b[43moptions\u001b[49m\u001b[38;5;241;43m.\u001b[39;49m\u001b[43mget\u001b[49m\u001b[43m(\u001b[49m\u001b[38;5;124;43m\"\u001b[39;49m\u001b[38;5;124;43mmemory_map\u001b[39;49m\u001b[38;5;124;43m\"\u001b[39;49m\u001b[43m,\u001b[49m\u001b[43m \u001b[49m\u001b[38;5;28;43;01mFalse\u001b[39;49;00m\u001b[43m)\u001b[49m\u001b[43m,\u001b[49m\n",
            "\u001b[0;32m   1886\u001b[0m \u001b[43m    \u001b[49m\u001b[43mis_text\u001b[49m\u001b[38;5;241;43m=\u001b[39;49m\u001b[43mis_text\u001b[49m\u001b[43m,\u001b[49m\n",
            "\u001b[0;32m   1887\u001b[0m \u001b[43m    \u001b[49m\u001b[43merrors\u001b[49m\u001b[38;5;241;43m=\u001b[39;49m\u001b[38;5;28;43mself\u001b[39;49m\u001b[38;5;241;43m.\u001b[39;49m\u001b[43moptions\u001b[49m\u001b[38;5;241;43m.\u001b[39;49m\u001b[43mget\u001b[49m\u001b[43m(\u001b[49m\u001b[38;5;124;43m\"\u001b[39;49m\u001b[38;5;124;43mencoding_errors\u001b[39;49m\u001b[38;5;124;43m\"\u001b[39;49m\u001b[43m,\u001b[49m\u001b[43m \u001b[49m\u001b[38;5;124;43m\"\u001b[39;49m\u001b[38;5;124;43mstrict\u001b[39;49m\u001b[38;5;124;43m\"\u001b[39;49m\u001b[43m)\u001b[49m\u001b[43m,\u001b[49m\n",
            "\u001b[0;32m   1888\u001b[0m \u001b[43m    \u001b[49m\u001b[43mstorage_options\u001b[49m\u001b[38;5;241;43m=\u001b[39;49m\u001b[38;5;28;43mself\u001b[39;49m\u001b[38;5;241;43m.\u001b[39;49m\u001b[43moptions\u001b[49m\u001b[38;5;241;43m.\u001b[39;49m\u001b[43mget\u001b[49m\u001b[43m(\u001b[49m\u001b[38;5;124;43m\"\u001b[39;49m\u001b[38;5;124;43mstorage_options\u001b[39;49m\u001b[38;5;124;43m\"\u001b[39;49m\u001b[43m,\u001b[49m\u001b[43m \u001b[49m\u001b[38;5;28;43;01mNone\u001b[39;49;00m\u001b[43m)\u001b[49m\u001b[43m,\u001b[49m\n",
            "\u001b[0;32m   1889\u001b[0m \u001b[43m\u001b[49m\u001b[43m)\u001b[49m\n",
            "\u001b[0;32m   1890\u001b[0m \u001b[38;5;28;01massert\u001b[39;00m \u001b[38;5;28mself\u001b[39m\u001b[38;5;241m.\u001b[39mhandles \u001b[38;5;129;01mis\u001b[39;00m \u001b[38;5;129;01mnot\u001b[39;00m \u001b[38;5;28;01mNone\u001b[39;00m\n",
            "\u001b[0;32m   1891\u001b[0m f \u001b[38;5;241m=\u001b[39m \u001b[38;5;28mself\u001b[39m\u001b[38;5;241m.\u001b[39mhandles\u001b[38;5;241m.\u001b[39mhandle\n",
            "\n",
            "File \u001b[1;32m~\\AppData\\Local\\Programs\\Python\\Python312\\Lib\\site-packages\\pandas\\io\\common.py:873\u001b[0m, in \u001b[0;36mget_handle\u001b[1;34m(path_or_buf, mode, encoding, compression, memory_map, is_text, errors, storage_options)\u001b[0m\n",
            "\u001b[0;32m    868\u001b[0m \u001b[38;5;28;01melif\u001b[39;00m \u001b[38;5;28misinstance\u001b[39m(handle, \u001b[38;5;28mstr\u001b[39m):\n",
            "\u001b[0;32m    869\u001b[0m     \u001b[38;5;66;03m# Check whether the filename is to be opened in binary mode.\u001b[39;00m\n",
            "\u001b[0;32m    870\u001b[0m     \u001b[38;5;66;03m# Binary mode does not support 'encoding' and 'newline'.\u001b[39;00m\n",
            "\u001b[0;32m    871\u001b[0m     \u001b[38;5;28;01mif\u001b[39;00m ioargs\u001b[38;5;241m.\u001b[39mencoding \u001b[38;5;129;01mand\u001b[39;00m \u001b[38;5;124m\"\u001b[39m\u001b[38;5;124mb\u001b[39m\u001b[38;5;124m\"\u001b[39m \u001b[38;5;129;01mnot\u001b[39;00m \u001b[38;5;129;01min\u001b[39;00m ioargs\u001b[38;5;241m.\u001b[39mmode:\n",
            "\u001b[0;32m    872\u001b[0m         \u001b[38;5;66;03m# Encoding\u001b[39;00m\n",
            "\u001b[1;32m--> 873\u001b[0m         handle \u001b[38;5;241m=\u001b[39m \u001b[38;5;28;43mopen\u001b[39;49m\u001b[43m(\u001b[49m\n",
            "\u001b[0;32m    874\u001b[0m \u001b[43m            \u001b[49m\u001b[43mhandle\u001b[49m\u001b[43m,\u001b[49m\n",
            "\u001b[0;32m    875\u001b[0m \u001b[43m            \u001b[49m\u001b[43mioargs\u001b[49m\u001b[38;5;241;43m.\u001b[39;49m\u001b[43mmode\u001b[49m\u001b[43m,\u001b[49m\n",
            "\u001b[0;32m    876\u001b[0m \u001b[43m            \u001b[49m\u001b[43mencoding\u001b[49m\u001b[38;5;241;43m=\u001b[39;49m\u001b[43mioargs\u001b[49m\u001b[38;5;241;43m.\u001b[39;49m\u001b[43mencoding\u001b[49m\u001b[43m,\u001b[49m\n",
            "\u001b[0;32m    877\u001b[0m \u001b[43m            \u001b[49m\u001b[43merrors\u001b[49m\u001b[38;5;241;43m=\u001b[39;49m\u001b[43merrors\u001b[49m\u001b[43m,\u001b[49m\n",
            "\u001b[0;32m    878\u001b[0m \u001b[43m            \u001b[49m\u001b[43mnewline\u001b[49m\u001b[38;5;241;43m=\u001b[39;49m\u001b[38;5;124;43m\"\u001b[39;49m\u001b[38;5;124;43m\"\u001b[39;49m\u001b[43m,\u001b[49m\n",
            "\u001b[0;32m    879\u001b[0m \u001b[43m        \u001b[49m\u001b[43m)\u001b[49m\n",
            "\u001b[0;32m    880\u001b[0m     \u001b[38;5;28;01melse\u001b[39;00m:\n",
            "\u001b[0;32m    881\u001b[0m         \u001b[38;5;66;03m# Binary mode\u001b[39;00m\n",
            "\u001b[0;32m    882\u001b[0m         handle \u001b[38;5;241m=\u001b[39m \u001b[38;5;28mopen\u001b[39m(handle, ioargs\u001b[38;5;241m.\u001b[39mmode)\n",
            "\n",
            "\u001b[1;31mFileNotFoundError\u001b[0m: [Errno 2] No such file or directory: 'HEART.csv'"
          ]
        }
      ],
      "source": [
        "## Load pandas library ##\n",
        "import pandas as pd\n",
        "\n",
        "## Load HEART CSV ##\n",
        "heart = pd.read_csv(\"HEART.csv\")"
      ]
    },
    {
      "cell_type": "markdown",
      "id": "3386bc2d",
      "metadata": {
        "id": "3386bc2d"
      },
      "source": [
        "- Awesome! Now that we've loaded the `heart` dataframe, how do we know that it loaded correctly?\n",
        "\n",
        "- There are two general approaches I'd recommend. One is a simple overview of the first few rows of the dataframe which we can obtain via the `.head` function.\n",
        "\n",
        "- The second is by using the `.info` function. This is equivalent to `dplyr::glimpse` in R or `PROC CONTENTS` in SAS.\n",
        "    - Let's check out how we'd use both techniques here!"
      ]
    },
    {
      "cell_type": "code",
      "execution_count": null,
      "id": "16b8d5e2",
      "metadata": {
        "id": "16b8d5e2",
        "outputId": "a760505a-52f7-4994-a877-144fc0454216"
      },
      "outputs": [
        {
          "name": "stdout",
          "output_type": "stream",
          "text": [
            "(5209, 17)\n"
          ]
        }
      ],
      "source": [
        "## First, what are the number of rows\n",
        "## and columns in the dataframe?\n",
        "## Let's use the .shape function! ##\n",
        "\n",
        "print(heart.shape)"
      ]
    },
    {
      "cell_type": "markdown",
      "id": "cfe8deb7",
      "metadata": {
        "id": "cfe8deb7"
      },
      "source": [
        "- Nice! So we know we have 5209 rows (or observations) and 17 columns (or variables).\n",
        "\n",
        "- Now let's check out the techniques for inspecting the dataframe!"
      ]
    },
    {
      "cell_type": "code",
      "execution_count": null,
      "id": "70b90a76",
      "metadata": {
        "id": "70b90a76",
        "outputId": "0eb76423-08a3-48b6-9ffd-e6f63adbbc92"
      },
      "outputs": [
        {
          "name": "stdout",
          "output_type": "stream",
          "text": [
            "  Status DeathCause  AgeCHDdiag     Sex  AgeAtStart  Height  Weight  \\\n",
            "0   Dead      Other         NaN  Female          29   62.50   140.0   \n",
            "1   Dead     Cancer         NaN  Female          41   59.75   194.0   \n",
            "2  Alive        NaN         NaN  Female          57   62.25   132.0   \n",
            "3  Alive        NaN         NaN  Female          39   65.75   158.0   \n",
            "4  Alive        NaN         NaN    Male          42   66.00   156.0   \n",
            "\n",
            "   Diastolic  Systolic    MRW  Smoking  AgeAtDeath  Cholesterol Chol_Status  \\\n",
            "0         78       124  121.0      0.0        55.0          NaN         NaN   \n",
            "1         92       144  183.0      0.0        57.0        181.0   Desirable   \n",
            "2         90       170  114.0     10.0         NaN        250.0        High   \n",
            "3         80       128  123.0      0.0         NaN        242.0        High   \n",
            "4         76       110  116.0     20.0         NaN        281.0        High   \n",
            "\n",
            "  BP_Status Weight_Status   Smoking_Status  \n",
            "0    Normal    Overweight       Non-smoker  \n",
            "1      High    Overweight       Non-smoker  \n",
            "2      High    Overweight  Moderate (6-15)  \n",
            "3    Normal    Overweight       Non-smoker  \n",
            "4   Optimal    Overweight    Heavy (16-25)  \n"
          ]
        }
      ],
      "source": [
        "## .head method ##\n",
        "\n",
        "print(heart.head(n=5))"
      ]
    },
    {
      "cell_type": "markdown",
      "id": "414e401e",
      "metadata": {
        "id": "414e401e"
      },
      "source": [
        "- With `.head`, we can see that the variable `Sex`, for example, is a *categorical* variable, meaning that it's values are qualities (e.g., `Male` or `Female`).\n",
        "\n",
        "- On the other hand, `Height`, seems to be measured with numbers likely implying that it is a *quantitative* variable.\n",
        "    - We can use `.info` and the `pyjanitor` package to confirm this!"
      ]
    },
    {
      "cell_type": "code",
      "execution_count": null,
      "id": "d32ece25",
      "metadata": {
        "id": "d32ece25",
        "outputId": "0d89a0a9-911e-46d5-f784-2b750d2f4777"
      },
      "outputs": [
        {
          "name": "stdout",
          "output_type": "stream",
          "text": [
            "<class 'pandas.core.frame.DataFrame'>\n",
            "RangeIndex: 5209 entries, 0 to 5208\n",
            "Data columns (total 17 columns):\n",
            " #   Column          Non-Null Count  Dtype  \n",
            "---  ------          --------------  -----  \n",
            " 0   Status          5209 non-null   object \n",
            " 1   DeathCause      1991 non-null   object \n",
            " 2   AgeCHDdiag      1449 non-null   float64\n",
            " 3   Sex             5209 non-null   object \n",
            " 4   AgeAtStart      5209 non-null   int64  \n",
            " 5   Height          5203 non-null   float64\n",
            " 6   Weight          5203 non-null   float64\n",
            " 7   Diastolic       5209 non-null   int64  \n",
            " 8   Systolic        5209 non-null   int64  \n",
            " 9   MRW             5203 non-null   float64\n",
            " 10  Smoking         5173 non-null   float64\n",
            " 11  AgeAtDeath      1991 non-null   float64\n",
            " 12  Cholesterol     5057 non-null   float64\n",
            " 13  Chol_Status     5057 non-null   object \n",
            " 14  BP_Status       5209 non-null   object \n",
            " 15  Weight_Status   5203 non-null   object \n",
            " 16  Smoking_Status  5173 non-null   object \n",
            "dtypes: float64(7), int64(3), object(7)\n",
            "memory usage: 691.9+ KB\n",
            "None\n"
          ]
        }
      ],
      "source": [
        "## .info method ##\n",
        "\n",
        "print(heart.info())"
      ]
    },
    {
      "cell_type": "markdown",
      "id": "5389521b",
      "metadata": {
        "id": "5389521b"
      },
      "source": [
        "- In this output, look again at the `Sex` variable. We see that it has 5209 non-null (non-missing) values, meaning that for every row in the dataframe, we have a valid, non-missing value!\n",
        "\n",
        "- Then next to this information, we can see that its datatype is `object`. This is Python's naming convention for a nominal, categorical variable.\n",
        "\n",
        "- For `Height`, we see that is has 6 missing values ($5209 - 5203 = 6$). We also see that Python considers it `float64`. This is Python's naming convention for a continuous, quantitative variable.\n",
        "    - Notice that `AgeAtStart` is considered `int64`. This is an integer, or discrete, quantitative variable designation."
      ]
    },
    {
      "cell_type": "markdown",
      "id": "f49072e9",
      "metadata": {
        "id": "f49072e9"
      },
      "source": [
        "## Working with Dataframes\n",
        "\n",
        "- Let's say I wanted to find the average or mean of the `AgeAtStart` column from the `heart` dataframe. How would I go about doing that?\n",
        "\n",
        "- First, I need to know how to refer to that single variable by itself.\n",
        "\n",
        "- To do this, we make use of the square bracket notation. Specifically, we can call a single column within a dataframe by using the following syntax: `df['Variable_Name']`.\n",
        "\n",
        "- You can think of the square bracket like a door to your home. The name of the dataframe is the house itself, the brackets are the door, and the variable name is the person we want to talk to inside of the house.\n",
        "    - So the structure is `house['Person']`.\n",
        "\n",
        "- If we run the following command, let's see what happens:"
      ]
    },
    {
      "cell_type": "code",
      "execution_count": null,
      "id": "8eb118a1",
      "metadata": {
        "id": "8eb118a1",
        "outputId": "c3a35caf-ce76-4c1f-d794-a5d4f807b4a9"
      },
      "outputs": [
        {
          "name": "stdout",
          "output_type": "stream",
          "text": [
            "0       29\n",
            "1       41\n",
            "2       57\n",
            "3       39\n",
            "4       42\n",
            "        ..\n",
            "5204    49\n",
            "5205    42\n",
            "5206    51\n",
            "5207    36\n",
            "5208    36\n",
            "Name: AgeAtStart, Length: 5209, dtype: int64\n"
          ]
        }
      ],
      "source": [
        "## house[\"Person\"] ##\n",
        "\n",
        "print(heart['AgeAtStart'])"
      ]
    },
    {
      "cell_type": "markdown",
      "id": "dd58c672",
      "metadata": {
        "id": "dd58c672"
      },
      "source": [
        "- If we go back and look at the output of the `.head` function, we can see that the values in this output vector correspond to the output we had from that function as well.\n",
        "\n",
        "- Note, the first element in Python (and many other programming languages) is coded as 0 rather than 1. There are some historical reasons for this but it ends up serving convenience purposes in some operations (i.e., range and length calculations) as well.\n",
        "\n",
        "- Okay so now that we've established how to directly refer to a variable within a dataframe, how do we calculate the mean? Here, we are going to use the popular `numpy` package to help us out!"
      ]
    },
    {
      "cell_type": "code",
      "execution_count": null,
      "id": "f084455a",
      "metadata": {
        "id": "f084455a",
        "outputId": "18f07068-7e6c-46b6-e1aa-739d319039bf"
      },
      "outputs": [
        {
          "name": "stdout",
          "output_type": "stream",
          "text": [
            "44.07\n"
          ]
        }
      ],
      "source": [
        "## Install numpy. Remember\n",
        "## to remove # from the left\n",
        "## of the following line of\n",
        "## code before executing ##\n",
        "\n",
        "#%pip install numpy\n",
        "\n",
        "## Load numpy ##\n",
        "\n",
        "import numpy as np\n",
        "\n",
        "## Calculate Mean AgeAtStart ##\n",
        "\n",
        "print(round(\n",
        "    np.mean(heart['AgeAtStart']),\n",
        "    2)\n",
        ")"
      ]
    },
    {
      "cell_type": "markdown",
      "id": "a95625ee",
      "metadata": {
        "id": "a95625ee"
      },
      "source": [
        "- So the mean age at start is 44.07 years old!\n",
        "\n",
        "## Tidying Data\n",
        "\n",
        "### Selecting Columns\n",
        "\n",
        "- Now, let's say I have a large dataframe with lots of columns of information, as you might see in your own careers.\n",
        "\n",
        "- But, for whatever analysis I'm wanting to do, I don't need all of the columns, just a few.\n",
        "\n",
        "- In such a case, it might be useful to subset the dataframe and select only the columns we need.\n",
        "\n",
        "- How do we go about doing this? Like many things in Python, there are a few different ways to yield the same result, but I'm going to show you what I consider the most straightforward method, which uses the `house[\"Person\"]` syntax we worked with previously.\n",
        "\n",
        "- Let's say using the `heart` dataframe, I want to create a new dataframe which only contains the last four columns: `Chol_Status`, `BP_Status`, `Weight_Status`, and `Smoking_Status`.\n"
      ]
    },
    {
      "cell_type": "code",
      "execution_count": null,
      "id": "f1f80e4f",
      "metadata": {
        "id": "f1f80e4f",
        "outputId": "9f0d245b-5810-414d-afe5-2d3c08bfacfa"
      },
      "outputs": [
        {
          "name": "stdout",
          "output_type": "stream",
          "text": [
            "<class 'pandas.core.frame.DataFrame'>\n",
            "RangeIndex: 5209 entries, 0 to 5208\n",
            "Data columns (total 4 columns):\n",
            " #   Column          Non-Null Count  Dtype \n",
            "---  ------          --------------  ----- \n",
            " 0   Chol_Status     5057 non-null   object\n",
            " 1   BP_Status       5209 non-null   object\n",
            " 2   Weight_Status   5203 non-null   object\n",
            " 3   Smoking_Status  5173 non-null   object\n",
            "dtypes: object(4)\n",
            "memory usage: 162.9+ KB\n",
            "None\n"
          ]
        }
      ],
      "source": [
        "## Creat New Dataframe using subset of\n",
        "## columns ##\n",
        "\n",
        "heart1 = heart[['Chol_Status',\n",
        "                'BP_Status',\n",
        "                'Weight_Status',\n",
        "                'Smoking_Status']]\n",
        "\n",
        "print(heart1.info())"
      ]
    },
    {
      "cell_type": "markdown",
      "id": "1a348490",
      "metadata": {
        "id": "1a348490"
      },
      "source": [
        "- We can see that the column selection worked because we have the same number of rows (5209) but now only those four columns we specified.\n",
        "\n",
        "### Filtering Rows\n",
        "\n",
        "- We just learned how to subset columns. What if we wanted to subset by values in the rows?\n",
        "\n",
        "- For example, let's say in the new `heart1` dataframe we just created, we want to create a new dataframe where we only have those participants whose `Weight_Status` is \"Overweight.\"\n",
        "\n",
        "- Again, there are a few different approaches, but I would recommend using what we've learned so far with the `house['Person']` syntax.\n"
      ]
    },
    {
      "cell_type": "code",
      "execution_count": null,
      "id": "421a2b96",
      "metadata": {
        "id": "421a2b96",
        "outputId": "b6bec34d-aabf-4d25-c48a-6cc49e65043e"
      },
      "outputs": [
        {
          "name": "stdout",
          "output_type": "stream",
          "text": [
            "(3550, 4)\n"
          ]
        }
      ],
      "source": [
        "## Create new dataframe from heart1\n",
        "## where participants' Weight_Status == \"Overweight\" ##\n",
        "\n",
        "heart2 = heart1[heart1['Weight_Status'] == \"Overweight\"]\n",
        "\n",
        "print(heart2.shape)"
      ]
    },
    {
      "cell_type": "markdown",
      "id": "72a9b45a",
      "metadata": {
        "id": "72a9b45a"
      },
      "source": [
        "- Here we can see that the number of columns is the same (4) but now the number of rows is smaller than the total number in the `heart1` dataframe.\n",
        "    - How can we confirm that the filtering worked correctly?\n",
        "\n",
        "- One strategy is by counting up the number of participants in the `heart1` dataframe whose `Weight_Status` was considered \"Overweight\".\n",
        "\n",
        "- If that number matches the number of rows in `heart2`, then we can feel confident that the filtering worked the way we expected it to.\n",
        "    - Let's try using the `.value_counts` function to check our work!\n"
      ]
    },
    {
      "cell_type": "code",
      "execution_count": null,
      "id": "97afb0a1",
      "metadata": {
        "id": "97afb0a1",
        "outputId": "d44da93c-48f9-4165-c099-d79e71d3205b"
      },
      "outputs": [
        {
          "name": "stdout",
          "output_type": "stream",
          "text": [
            "Weight_Status\n",
            "Overweight     3550\n",
            "Normal         1472\n",
            "Underweight     181\n",
            "Name: count, dtype: int64\n"
          ]
        }
      ],
      "source": [
        "## Tabulate Number of Overweight Participants\n",
        "## in heart1 dataframe ##\n",
        "\n",
        "print(heart1['Weight_Status'].value_counts())"
      ]
    },
    {
      "cell_type": "markdown",
      "id": "742d3057",
      "metadata": {
        "id": "742d3057"
      },
      "source": [
        "- Since the number of Overweight participants in `heart1` (3550) is equal to the number of rows in `heart2`, we can feel confident our filtering worked the way we anticipated!\n",
        "\n",
        "## What is \"Tidy\" Data?\n",
        "\n",
        "- Once we have imported data, our next job is often to \"tidy\" it. Tidy data refers to data structure or how information is stored.\n",
        "\n",
        "- A tidy dataframe has the following characteristics:\n",
        "    1. Each variable is a column; each column is a variable.\n",
        "    2. Each observation is a row; each row is an observation.\n",
        "    3. Each value has is a cell; each cell is a single value.\n",
        "\n",
        "![From R for Data Science 2nd Edition](https://github.com/abrown9008/STAT-7220-Applied-Experimental-Design/blob/main/Python%20for%20Data%20Science/Tidy%20Data%20Structure.png?raw=1)\n",
        "\n",
        "- Why should we care about having our data in tidy format? There are two key reasons:\n",
        "\n",
        "- First, consistency. It's much easier to work with datasets if we know what format they're in.\n",
        "\n",
        "- Second, this is generally the structure most Python functions want the data to be in to work correctly."
      ]
    }
  ],
  "metadata": {
    "language_info": {
      "name": "python"
    },
    "colab": {
      "provenance": []
    },
    "kernelspec": {
      "name": "python3",
      "display_name": "Python 3"
    }
  },
  "nbformat": 4,
  "nbformat_minor": 5
}